{
 "cells": [
  {
   "cell_type": "code",
   "execution_count": 2,
   "id": "ef9d527d",
   "metadata": {},
   "outputs": [
    {
     "data": {
      "text/plain": [
       "132"
      ]
     },
     "execution_count": 2,
     "metadata": {},
     "output_type": "execute_result"
    }
   ],
   "source": [
    "# My Jupyter Notebook on IBM Watson Studio (actually Anaconda)\n",
    "# My name is Daniel\n",
    "# Airline pilot\n",
    "# I am interested in data science because I want to change my career\n",
    "# The next cell shows the result of 3 times 4\n",
    "3*4\n",
    "# This coursera course is not that good, do you agree?"
   ]
  },
  {
   "cell_type": "code",
   "execution_count": null,
   "id": "99a2c245",
   "metadata": {},
   "outputs": [],
   "source": []
  }
 ],
 "metadata": {
  "kernelspec": {
   "display_name": "Python 3 (ipykernel)",
   "language": "python",
   "name": "python3"
  },
  "language_info": {
   "codemirror_mode": {
    "name": "ipython",
    "version": 3
   },
   "file_extension": ".py",
   "mimetype": "text/x-python",
   "name": "python",
   "nbconvert_exporter": "python",
   "pygments_lexer": "ipython3",
   "version": "3.9.12"
  }
 },
 "nbformat": 4,
 "nbformat_minor": 5
}
